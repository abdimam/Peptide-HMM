{
 "cells": [
  {
   "cell_type": "code",
   "execution_count": null,
   "id": "65a31f2e",
   "metadata": {},
   "outputs": [],
   "source": [
    "import csv\n",
    "import re\n",
    "\n",
    "def extract_sequences(csv_file, sequence_column, fasta_file):\n",
    "    sequences = set()\n",
    "\n",
    "    with open(csv_file, 'r') as file:\n",
    "        reader = csv.reader(file)\n",
    "        next(reader)  # Skip header row if exists\n",
    "        for row in reader:\n",
    "            sequence = re.sub(r'[^A-Za-z]', '', row[sequence_column])  # Remove numbers, pluses, and dots\n",
    "            if len(sequence) >= 14:  # Check if sequence length is at least 14\n",
    "                sequences.add(sequence)\n",
    "\n",
    "    # Write sequences to fasta file\n",
    "    with open(fasta_file, 'w') as fasta:\n",
    "        for i, sequence in enumerate(sequences, start=1):\n",
    "            fasta.write(f'>Sequence_{i}\\n{sequence}\\n')\n",
    "\n",
    "# Usage example\n",
    "csv_file = 'Data_WIgG1_Heavy/peptides_0.csv'\n",
    "sequence_column = 1  # Assuming the amino acid sequences are in the second column (0-indexed)\n",
    "fasta_file = 'WIgG1_Heavy.fasta'\n",
    "\n",
    "extract_sequences(csv_file, sequence_column, fasta_file)\n"
   ]
  }
 ],
 "metadata": {
  "kernelspec": {
   "display_name": "Python 3 (ipykernel)",
   "language": "python",
   "name": "python3"
  },
  "language_info": {
   "codemirror_mode": {
    "name": "ipython",
    "version": 3
   },
   "file_extension": ".py",
   "mimetype": "text/x-python",
   "name": "python",
   "nbconvert_exporter": "python",
   "pygments_lexer": "ipython3",
   "version": "3.9.12"
  }
 },
 "nbformat": 4,
 "nbformat_minor": 5
}
