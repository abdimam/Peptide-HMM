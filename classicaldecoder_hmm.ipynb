{
 "cells": [
  {
   "cell_type": "code",
   "execution_count": 1,
   "id": "6268e2e7-c78b-4754-ac2c-f6e35e0361da",
   "metadata": {},
   "outputs": [],
   "source": [
    "import numpy as np"
   ]
  },
  {
   "cell_type": "code",
   "execution_count": 27,
   "id": "1baf0489-265f-426a-a26e-339a59f13091",
   "metadata": {},
   "outputs": [],
   "source": [
    "class Decoder:\n",
    "    def __init__(self,transition,init_transition,emission,sequence):\n",
    "        #self.states = states\n",
    "        self.init_transition = init_transition #normal array\n",
    "        self.transition = transition #2 dim array, numpy (states x states)\n",
    "        self.emission = emission #must 2 dim array (states x sequence)\n",
    "        self.sequence = sequence #observered sequence, normal array\n",
    "\n",
    "        #Will be used to keep track of everything calculated\n",
    "        self.matrix = np.zeros((len(emission),len(sequence)))\n",
    "\n",
    "    def viterbi(self):\n",
    "        #initiate\n",
    "        self.matrix[:, 0] = self.init_transition * self.emission[:, self.sequence[0]]\n",
    "        #iteration and keeping the largest argument\n",
    "        for i in range(1, self.matrix.shape[1]):\n",
    "            for j in range(self.matrix.shape[0]):\n",
    "                v_prop = self.matrix[:, i-1] * self.emission[j, i] * self.transition[:, j]\n",
    "                self.matrix[j, i] = np.max(v_prop)\n",
    "        #return backp(matrix)"
   ]
  },
  {
   "cell_type": "code",
   "execution_count": 12,
   "id": "e866d448-74b4-438b-987a-f3eac78df652",
   "metadata": {},
   "outputs": [
    {
     "data": {
      "text/plain": [
       "10"
      ]
     },
     "execution_count": 12,
     "metadata": {},
     "output_type": "execute_result"
    }
   ],
   "source": [
    "len([1,2,3,4,5,6,7,8,9,10])"
   ]
  },
  {
   "cell_type": "code",
   "execution_count": 26,
   "id": "6f3eaf6d-d293-4020-b2e2-f8bbbfa83530",
   "metadata": {},
   "outputs": [
    {
     "name": "stdout",
     "output_type": "stream",
     "text": [
      "Resulting Matrix:\n",
      "[[9.34378400e-01 6.29817498e-01 6.19307745e-02 2.22845149e-01\n",
      "  3.01207065e-03 2.83704601e-02 6.14020220e-03 1.78930408e-02\n",
      "  8.44265473e-04 5.56975580e-04]\n",
      " [6.57914526e-02 1.64154959e-02 2.62486595e-01 1.41475456e-01\n",
      "  8.47839473e-02 2.75788140e-02 2.91783674e-02 9.93455775e-03\n",
      "  1.51434011e-02 1.06567482e-02]]\n"
     ]
    }
   ],
   "source": [
    "#just checking if everything is alright\n",
    "\n",
    "\n",
    "emis = np.random.rand(2, 10)\n",
    "\n",
    "tramis = np.random.rand(2, 2)\n",
    "\n",
    "seq = [1,2,3,4,5,6,7,8,9,10]\n",
    "\n",
    "decoder = Decoder(tramis, [1,2], emis, seq)\n",
    "\n",
    "decoder.viterbi()\n",
    "\n",
    "print(\"Resulting Matrix:\")\n",
    "print(decoder.matrix)"
   ]
  }
 ],
 "metadata": {
  "kernelspec": {
   "display_name": "Python 3 (ipykernel)",
   "language": "python",
   "name": "python3"
  },
  "language_info": {
   "codemirror_mode": {
    "name": "ipython",
    "version": 3
   },
   "file_extension": ".py",
   "mimetype": "text/x-python",
   "name": "python",
   "nbconvert_exporter": "python",
   "pygments_lexer": "ipython3",
   "version": "3.11.7"
  }
 },
 "nbformat": 4,
 "nbformat_minor": 5
}
